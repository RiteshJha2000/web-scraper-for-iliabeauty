{
 "cells": [
  {
   "cell_type": "code",
   "execution_count": 1,
   "id": "2d02bbb5",
   "metadata": {},
   "outputs": [],
   "source": [
    "# connect python with webbrowser-chrome\n",
    "import chromedriver_binary\n",
    "import chromedriver_autoinstaller as chromedriver\n",
    "from selenium import webdriver\n",
    "from selenium.webdriver.common.keys import Keys\n",
    "from selenium.webdriver.common.by import By\n",
    "from selenium.webdriver.support.ui import WebDriverWait\n",
    "from selenium.webdriver.support import expected_conditions as EC\n",
    "import time\n",
    "import traceback"
   ]
  },
  {
   "cell_type": "code",
   "execution_count": 2,
   "id": "6638e92f",
   "metadata": {},
   "outputs": [],
   "source": [
    "options=webdriver.ChromeOptions()"
   ]
  },
  {
   "cell_type": "code",
   "execution_count": 3,
   "id": "c904227a",
   "metadata": {},
   "outputs": [],
   "source": [
    "options.add_experimental_option('detach',True)"
   ]
  },
  {
   "cell_type": "code",
   "execution_count": 4,
   "id": "f01f552f",
   "metadata": {},
   "outputs": [
    {
     "name": "stderr",
     "output_type": "stream",
     "text": [
      "C:\\Users\\Ritesh Roshan Jha\\AppData\\Local\\Temp\\ipykernel_17464\\3639722453.py:3: DeprecationWarning: executable_path has been deprecated, please pass in a Service object\n",
      "  driver = webdriver.Chrome(executable_path=chrome_driver_path,options=options)\n"
     ]
    }
   ],
   "source": [
    "chrome_driver_path = 'R:\\Documents\\chromedriver-win64\\chromedriver'\n",
    "\n",
    "driver = webdriver.Chrome(executable_path=chrome_driver_path,options=options)"
   ]
  },
  {
   "cell_type": "code",
   "execution_count": 5,
   "id": "34e76d3b",
   "metadata": {},
   "outputs": [],
   "source": [
    "driver.maximize_window()"
   ]
  },
  {
   "cell_type": "code",
   "execution_count": 6,
   "id": "fa418dca",
   "metadata": {},
   "outputs": [],
   "source": [
    "driver.get('https://iliabeauty.com/products/wanderlust')\n",
    "driver.implicitly_wait(1)"
   ]
  },
  {
   "cell_type": "code",
   "execution_count": 7,
   "id": "c91ef351",
   "metadata": {},
   "outputs": [],
   "source": [
    "#----------------Product-----------------------------------------#"
   ]
  },
  {
   "cell_type": "code",
   "execution_count": 18,
   "id": "e36c25fe",
   "metadata": {},
   "outputs": [
    {
     "data": {
      "text/plain": [
       "'ILIA Balmy Tint: Cool Berry - Hydrating Lip Balm has loaded'"
      ]
     },
     "execution_count": 18,
     "metadata": {},
     "output_type": "execute_result"
    }
   ],
   "source": [
    "Title = driver.find_element(By.XPATH,\"//div[@id='announcer']\")\n",
    "\n",
    "wait = WebDriverWait(driver, timeout=2)\n",
    "wait.until(lambda d : Title.is_displayed())\n",
    "\n",
    "title = Title.text\n",
    "title"
   ]
  },
  {
   "cell_type": "code",
   "execution_count": 19,
   "id": "e1c5895a",
   "metadata": {},
   "outputs": [],
   "source": [
    "product = title.split(':')"
   ]
  },
  {
   "cell_type": "code",
   "execution_count": 20,
   "id": "be98a8b8",
   "metadata": {},
   "outputs": [],
   "source": [
    "product_name = product[1]\n",
    "product_brand = product[0]"
   ]
  },
  {
   "cell_type": "code",
   "execution_count": 21,
   "id": "bb32b933",
   "metadata": {},
   "outputs": [],
   "source": [
    "#----------------Product Price-----------------------------------------#"
   ]
  },
  {
   "cell_type": "code",
   "execution_count": 22,
   "id": "0dad059c",
   "metadata": {},
   "outputs": [
    {
     "data": {
      "text/plain": [
       "'$28'"
      ]
     },
     "execution_count": 22,
     "metadata": {},
     "output_type": "execute_result"
    }
   ],
   "source": [
    "price = driver.find_element(By.XPATH,\" //*[@id='main']/div/div[1]/div[1]/div/p/span[1]\")\n",
    "price.text"
   ]
  },
  {
   "cell_type": "code",
   "execution_count": 23,
   "id": "1c211600",
   "metadata": {},
   "outputs": [],
   "source": [
    "#----------------Product Rating-----------------------------------------#"
   ]
  },
  {
   "cell_type": "code",
   "execution_count": 24,
   "id": "3d9b567a",
   "metadata": {},
   "outputs": [
    {
     "data": {
      "text/plain": [
       "'4.8'"
      ]
     },
     "execution_count": 24,
     "metadata": {},
     "output_type": "execute_result"
    }
   ],
   "source": [
    "text2 = driver.find_element(By.XPATH,\"//div[contains(@class,'okeReviews-badge--rating')]\")\n",
    "rating = text2.text.split('\\n')[1]\n",
    "rating"
   ]
  },
  {
   "cell_type": "code",
   "execution_count": 25,
   "id": "37e1c7c3",
   "metadata": {},
   "outputs": [],
   "source": [
    "#----------------Product Review Count-----------------------------------------#"
   ]
  },
  {
   "cell_type": "code",
   "execution_count": 26,
   "id": "e323f19f",
   "metadata": {},
   "outputs": [
    {
     "data": {
      "text/plain": [
       "'Based on 1242 Reviews'"
      ]
     },
     "execution_count": 26,
     "metadata": {},
     "output_type": "execute_result"
    }
   ],
   "source": [
    "count = driver.find_element(By.XPATH,\"//div[contains(@class,'okeReviews-reviewsAggregate-summary-total')]\")\n",
    "driver.implicitly_wait(1)\n",
    "review_count = count.text\n",
    "review_count"
   ]
  },
  {
   "cell_type": "code",
   "execution_count": 27,
   "id": "c87d0ec5",
   "metadata": {},
   "outputs": [
    {
     "data": {
      "text/plain": [
       "'1242'"
      ]
     },
     "execution_count": 27,
     "metadata": {},
     "output_type": "execute_result"
    }
   ],
   "source": [
    "import re\n",
    "numbers = re.findall(r'\\d+\\.\\d+|\\d+', review_count)\n",
    "rev = numbers[0]\n",
    "rev"
   ]
  },
  {
   "cell_type": "code",
   "execution_count": 28,
   "id": "50a586ac",
   "metadata": {},
   "outputs": [],
   "source": [
    "#----------------Product description-----------------------------------------#"
   ]
  },
  {
   "cell_type": "code",
   "execution_count": 29,
   "id": "f8791c57",
   "metadata": {},
   "outputs": [],
   "source": [
    "text3 = driver.find_element(By.XPATH,\"//div[contains(@class,'accordion__content')]\")\n",
    "driver.implicitly_wait(1)\n",
    "desc = text3.text.split('\\n')"
   ]
  },
  {
   "cell_type": "code",
   "execution_count": 30,
   "id": "b1f479ca",
   "metadata": {},
   "outputs": [
    {
     "data": {
      "text/plain": [
       "\"What it is: A clean, tinted lip balm with active levels of moisture-boosting ingredients and sheer, buildable color.How it works: The buttery, balmy formula quenches lips on contact while adding a kiss of color that builds with each swipe. Salicornia (Sea Succulent), Rosehip Seed Oil, and Shea Butter deeply hydrate and nourish, helping lips look smoother and more plump.What else you need to know: The cult-classic lip balm that started it all, reimagined. Each Balmy Tint is carefully poured by hand to maintain the integrity of the active formula. Available in eight easy-to-wear shades for an effortless wash of color that you can dial up or down.Size: 0.15 oz | 4.4 gAwards:- Best Lip Balm, Glamour Beauty Awards (2022)- Best Tinted Lip Balm, Refinery29's Beauty Innovator Awards (2021)- POPSUGAR Pick (2021)\""
      ]
     },
     "execution_count": 30,
     "metadata": {},
     "output_type": "execute_result"
    }
   ],
   "source": [
    "des=\"\"\n",
    "for it in desc:\n",
    "    des += it\n",
    "des"
   ]
  },
  {
   "cell_type": "code",
   "execution_count": null,
   "id": "3d714ace",
   "metadata": {},
   "outputs": [],
   "source": []
  },
  {
   "cell_type": "code",
   "execution_count": 31,
   "id": "fb5aafe0",
   "metadata": {},
   "outputs": [],
   "source": [
    "#----------------------REVIEWS--------------------------#"
   ]
  },
  {
   "cell_type": "code",
   "execution_count": 32,
   "id": "9e11b68f",
   "metadata": {},
   "outputs": [],
   "source": [
    "def load_page():\n",
    "    btn = driver.find_element(By.XPATH,\"//button[contains(@class,'okeReviews-showMore')]\")\n",
    "    sz = int(rev)\n",
    "    i = 5\n",
    "    while i<=150:\n",
    "        try:\n",
    "            \n",
    "            # Scroll the button into view\n",
    "            actions = ActionChains(driver)\n",
    "            actions.move_to_element(btn).perform()\n",
    "\n",
    "            # Click the \"Show More\" button\n",
    "            btn.click()\n",
    "            i = i+5\n",
    "\n",
    "            # Wait for the new reviews to load\n",
    "            wait = WebDriverWait(driver, timeout=2)\n",
    "            wait.until(lambda d : btn.is_displayed())\n",
    "\n",
    "        except Exception as e:\n",
    "            print(f\"An error occurred: {e}\")\n",
    "            break "
   ]
  },
  {
   "cell_type": "code",
   "execution_count": null,
   "id": "0e11e6f1",
   "metadata": {},
   "outputs": [],
   "source": []
  },
  {
   "cell_type": "code",
   "execution_count": 33,
   "id": "1012b60d",
   "metadata": {},
   "outputs": [],
   "source": [
    "def load_data():\n",
    "    \n",
    "    #name\n",
    "    ele1 = driver.find_elements(By.XPATH,\"//span[contains(@class,'okeReviews-review-reviewer-profile-name')]\")\n",
    "    # verified\n",
    "    ele1_1 = driver.find_elements(By.XPATH,\"//div[contains(@class,'okeReviews-review-reviewer-profile-status okeReviews-review-reviewer-profile-status--verified')]\")\n",
    "\n",
    "    #rating\n",
    "    ele2 =  driver.find_elements(By.XPATH,\"//div[contains(@class,'okeReviews-review-starRating')]\")\n",
    "\n",
    "    #date\n",
    "    ele3 = driver.find_elements(By.XPATH,\"//div[contains(@class,'okeReviews-review-date')]\")\n",
    "\n",
    "    #title\n",
    "    ele4 = driver.find_elements(By.XPATH,\"//h2[contains(@class,'okeReviews-review')]\")\n",
    "\n",
    "    #desc\n",
    "    ele5 = driver.find_elements(By.XPATH,\"//div[contains(@class,'okeReviews-review-main-content-body')]\")\n",
    "    \n",
    "    print(len(ele1))\n",
    "    reviews = []\n",
    "\n",
    "    for e1,e1_1,e2,e3,e4,e5 in zip(ele1,ele1_1,ele2,ele3,ele4,ele5):\n",
    "        ver = \"Verified Buyer\" if len(e1_1.text)>0 else \"Not Verified\"\n",
    "        str=\"\"\n",
    "        str = e1.text + \"#\" + ver +\"#\" + e2.text +\"#\" + e3.text.split('\\n')[1] +\"#\" + e4.text +\"#\" + e5.text \n",
    "        reviews.append(str)\n",
    "        \n",
    "    return reviews"
   ]
  },
  {
   "cell_type": "code",
   "execution_count": 34,
   "id": "e64c75f9",
   "metadata": {},
   "outputs": [],
   "source": [
    "def extract_reviews():\n",
    "    load_page()\n",
    "    \n",
    "    return load_data()"
   ]
  },
  {
   "cell_type": "code",
   "execution_count": 37,
   "id": "f0bfa83d",
   "metadata": {},
   "outputs": [],
   "source": [
    "from selenium.webdriver.common.action_chains import ActionChains\n",
    "\n",
    "all_reviews = extract_reviews()"
   ]
  },
  {
   "cell_type": "code",
   "execution_count": 36,
   "id": "a3076ef9",
   "metadata": {},
   "outputs": [
    {
     "data": {
      "text/plain": [
       "54"
      ]
     },
     "execution_count": 36,
     "metadata": {},
     "output_type": "execute_result"
    }
   ],
   "source": [
    "len(all_reviews)"
   ]
  },
  {
   "cell_type": "code",
   "execution_count": null,
   "id": "66ce19ba",
   "metadata": {},
   "outputs": [],
   "source": [
    "# reviews = []\n",
    "\n",
    "# for e1,e1_1,e2,e3,e4,e5 in zip(ele1,ele1_1,ele2,ele3,ele4,ele5):\n",
    "#     print(e1.text)\n",
    "#     print(e1_1.text)\n",
    "#     print(e2.text)\n",
    "#     print(e3.text)\n",
    "#     print(e4.text)\n",
    "#     print(e5.text)\n",
    "#     print(\"--------*------\")"
   ]
  },
  {
   "cell_type": "code",
   "execution_count": null,
   "id": "d98b95bd",
   "metadata": {},
   "outputs": [],
   "source": [
    "import csv\n",
    "\n",
    "# CSV file path\n",
    "csv_file_path = 'reviews4.csv'\n",
    "\n",
    "# Split and write to CSV\n",
    "with open(csv_file_path, 'w', newline='', encoding='utf-8') as csvfile:\n",
    "    \n",
    "    fieldnames = ['Product Name', 'Brand Name', 'Price', 'Ratings', 'Review Count', 'Description']\n",
    "    writer = csv.DictWriter(csvfile, fieldnames=fieldnames)\n",
    "    \n",
    "    # Write header\n",
    "    writer.writeheader()\n",
    "\n",
    "    # Write reviews to CSV\n",
    "    writer.writerow({'Product Name': product_name,\n",
    "                     'Brand Name': product_brand,\n",
    "                     'Price': price.text,\n",
    "                     'Ratings': rating,\n",
    "                     'Review Count': rev,\n",
    "                     'Description': des})\n",
    "    \n",
    "    csvfile.write('\\n')\n",
    "\n",
    "    \n",
    "    fieldnames = ['Reviewer Name', 'Status', 'Rating', 'Date', 'Title', 'Review']\n",
    "    writer = csv.DictWriter(csvfile, fieldnames=fieldnames)\n",
    "    \n",
    "    # Write header\n",
    "    writer.writeheader()\n",
    "\n",
    "    # Write reviews to CSV\n",
    "    for review in all_reviews:\n",
    "        parts = review.split('#')\n",
    "        writer.writerow({'Reviewer Name': parts[0].strip(),\n",
    "                         'Status': parts[1].strip(),\n",
    "                         'Rating': parts[2].strip(),\n",
    "                         'Date': parts[3].strip(),\n",
    "                         'Title': parts[4].strip(),\n",
    "                         'Review': parts[5].strip()})\n"
   ]
  },
  {
   "cell_type": "code",
   "execution_count": null,
   "id": "5b3c365a",
   "metadata": {},
   "outputs": [],
   "source": []
  },
  {
   "cell_type": "code",
   "execution_count": null,
   "id": "b81a2134",
   "metadata": {},
   "outputs": [],
   "source": []
  },
  {
   "cell_type": "code",
   "execution_count": null,
   "id": "d923e246",
   "metadata": {},
   "outputs": [],
   "source": []
  },
  {
   "cell_type": "code",
   "execution_count": null,
   "id": "2cc54db7",
   "metadata": {},
   "outputs": [],
   "source": []
  }
 ],
 "metadata": {
  "kernelspec": {
   "display_name": "Python 3 (ipykernel)",
   "language": "python",
   "name": "python3"
  },
  "language_info": {
   "codemirror_mode": {
    "name": "ipython",
    "version": 3
   },
   "file_extension": ".py",
   "mimetype": "text/x-python",
   "name": "python",
   "nbconvert_exporter": "python",
   "pygments_lexer": "ipython3",
   "version": "3.10.0"
  }
 },
 "nbformat": 4,
 "nbformat_minor": 5
}
